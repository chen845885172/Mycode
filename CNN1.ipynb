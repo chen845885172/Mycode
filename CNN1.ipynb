{
 "cells": [
  {
   "cell_type": "code",
   "execution_count": 1,
   "source": [
    "import numpy as np\r\n",
    "import h5py\r\n",
    "import matplotlib.pyplot as plt\r\n",
    "\r\n",
    "%matplotlib inline\r\n",
    "#用于直接在Jupyter中画图\r\n",
    "\r\n",
    "plt.rcParams['figure.figsize']=(5.0,4.0)    #设置图像最大范围\r\n",
    "plt.rcParams['image.interpolation']='nearest'   #差值方式 设置 interpolation style\r\n",
    "plt.rcParams['image.cmap']='gray'   #灰度空间"
   ],
   "outputs": [
    {
     "output_type": "stream",
     "name": "stderr",
     "text": [
      "<frozen importlib._bootstrap>:219: RuntimeWarning: numpy.ndarray size changed, may indicate binary incompatibility. Expected 80 from C header, got 88 from PyObject\n"
     ]
    }
   ],
   "metadata": {}
  },
  {
   "cell_type": "code",
   "execution_count": 2,
   "source": [
    "%load_ext autoreload\r\n",
    "%autoreload 2\r\n",
    "\r\n",
    "np.random.seed(1)"
   ],
   "outputs": [],
   "metadata": {}
  },
  {
   "cell_type": "code",
   "execution_count": 10,
   "source": [
    "def zero_pad(X,pad):\r\n",
    "    X_pad=np.pad(X,((0,0),(pad,pad),(pad,pad),(0,0)),'constant',constant_values=0)\r\n",
    "    #               #()中表示每个轴边缘需要填充的数值数目     constant表示用连续相同值填充\r\n",
    "\r\n",
    "    return X_pad"
   ],
   "outputs": [],
   "metadata": {}
  },
  {
   "cell_type": "code",
   "execution_count": 12,
   "source": [
    "np.random.seed(1)\r\n",
    "x=np.random.randn(4,3,3,2)\r\n",
    "x_pad=zero_pad(x,2)\r\n",
    "\r\n",
    "print (\"x.shape =\", x.shape)\r\n",
    "print (\"x_pad.shape =\", x_pad.shape)\r\n",
    "print (\"x[1,1] =\", x[1,1])\r\n",
    "print (\"x_pad[1,1] =\", x_pad[1,1])\r\n",
    "\r\n",
    "\r\n",
    "fig, axarr = plt.subplots(1, 2)\r\n",
    "axarr[0].set_title('x')\r\n",
    "axarr[0].imshow(x[0,:,:,0])\r\n",
    "axarr[1].set_title('x_pad')\r\n",
    "axarr[1].imshow(x_pad[0,:,:,0])\r\n"
   ],
   "outputs": [
    {
     "output_type": "stream",
     "name": "stdout",
     "text": [
      "x.shape = (4, 3, 3, 2)\n",
      "x_pad.shape = (4, 7, 7, 2)\n",
      "x[1,1] = [[ 0.90085595 -0.68372786]\n",
      " [-0.12289023 -0.93576943]\n",
      " [-0.26788808  0.53035547]]\n",
      "x_pad[1,1] = [[0. 0.]\n",
      " [0. 0.]\n",
      " [0. 0.]\n",
      " [0. 0.]\n",
      " [0. 0.]\n",
      " [0. 0.]\n",
      " [0. 0.]]\n"
     ]
    },
    {
     "output_type": "execute_result",
     "data": {
      "text/plain": [
       "<matplotlib.image.AxesImage at 0x1d810bad490>"
      ]
     },
     "metadata": {},
     "execution_count": 12
    },
    {
     "output_type": "display_data",
     "data": {
      "image/png": "[encoded data removed]",
      "text/plain": [
       "<Figure size 360x288 with 2 Axes>"
      ]
     },
     "metadata": {
      "needs_background": "light"
     }
    }
   ],
   "metadata": {}
  },
  {
   "cell_type": "code",
   "execution_count": 13,
   "source": [
    "def conv_single_step(a_slice_prev,W,b):\r\n",
    "\r\n",
    "    s=np.multiply(a_slice_prev,W)+b\r\n",
    "\r\n",
    "    Z=np.sum(s)\r\n",
    "\r\n",
    "    return Z"
   ],
   "outputs": [],
   "metadata": {}
  },
  {
   "cell_type": "code",
   "execution_count": 14,
   "source": [
    "np.random.seed(1)\r\n",
    "a_slice_prev=np.random.randn(4,4,3)\r\n",
    "W=np.random.randn(4,4,3)\r\n",
    "b=np.random.randn(1,1,1)\r\n",
    "\r\n",
    "Z=conv_single_step(a_slice_prev,W,b)\r\n",
    "print('Z=',Z)"
   ],
   "outputs": [
    {
     "output_type": "stream",
     "name": "stdout",
     "text": [
      "Z= -23.16021220252078\n"
     ]
    }
   ],
   "metadata": {}
  },
  {
   "cell_type": "code",
   "execution_count": 21,
   "source": [
    "def conv_forward(A_prev,W,b,hparameters):\r\n",
    "\r\n",
    "    (m,n_H_prev,n_W_prev,n_C_prev)=A_prev.shape     #图片 m个图片  n_H_prev,n_W_prev,n_C_prev分别为X,Y,Z\r\n",
    "\r\n",
    "    (f,f,n_c_prev,n_C)=W.shape      #f,f,n_c_prev为x,y,z\r\n",
    "\r\n",
    "    stride=hparameters['stride']\r\n",
    "    pad=hparameters['pad']\r\n",
    "\r\n",
    "    n_H=1+int((n_H_prev-f+2*pad)/stride)\r\n",
    "    n_W=1+int((n_W_prev-f+2*pad)/stride)\r\n",
    "\r\n",
    "    Z=np.zeros((m,n_H,n_W,n_C))\r\n",
    "    A_prev_pad=zero_pad(A_prev,pad) #把原图像扩充\r\n",
    "\r\n",
    "    \r\n",
    "    for i in range(m):\r\n",
    "        a_prev_pad=A_prev_pad[i]\r\n",
    "        for h in range(n_H):\r\n",
    "            for w in range(n_W):\r\n",
    "                for c in range(n_C):\r\n",
    "\r\n",
    "                    vert_start=h*stride\r\n",
    "                    vert_end=vert_start+f\r\n",
    "                    horiz_start=w*stride\r\n",
    "                    horiz_end=horiz_start+f\r\n",
    "\r\n",
    "                    a_slice_prev=a_prev_pad[vert_start:vert_end,horiz_start:horiz_end,:]    #原图像切片\r\n",
    "\r\n",
    "                    Z[i, h, w, c] = np.sum(np.multiply(a_slice_prev, W[:, :, :, c]) + b[:, :, :, c])    #保存结果\r\n",
    "\r\n",
    "    assert(Z.shape==(m,n_H,n_W,n_C))\r\n",
    "\r\n",
    "    cache=(A_prev,W,b,hparameters)\r\n",
    "\r\n",
    "    return Z,cache"
   ],
   "outputs": [],
   "metadata": {}
  },
  {
   "cell_type": "code",
   "execution_count": 22,
   "source": [
    "np.random.seed(1)\r\n",
    "A_prev = np.random.randn(10,4,4,3)\r\n",
    "W = np.random.randn(2,2,3,8)\r\n",
    "b = np.random.randn(1,1,1,8)\r\n",
    "hparameters = {\"pad\" : 2,\r\n",
    "               \"stride\": 1}\r\n",
    "\r\n",
    "Z, cache_conv = conv_forward(A_prev, W, b, hparameters)\r\n",
    "print(\"Z's mean =\", np.mean(Z))\r\n",
    "print(\"cache_conv[0][1][2][3] =\", cache_conv[0][1][2][3])"
   ],
   "outputs": [
    {
     "output_type": "stream",
     "name": "stdout",
     "text": [
      "Z's mean = 0.15585932488906465\n",
      "cache_conv[0][1][2][3] = [-0.20075807  0.18656139  0.41005165]\n"
     ]
    }
   ],
   "metadata": {}
  },
  {
   "cell_type": "code",
   "execution_count": 23,
   "source": [
    "def pool_forward(A_prev,hparameters,mode='max'):\r\n",
    "    (m,n_H_prev,n_W_prev,n_C_prev)=A_prev.shape\r\n",
    "\r\n",
    "    f=hparameters['f']\r\n",
    "    stride=hparameters['stride']\r\n",
    "\r\n",
    "    n_H=int(1+(n_H_prev-f)/stride)\r\n",
    "    n_W=int(1+(n_W_prev-f)/stride)\r\n",
    "    n_C=n_C_prev\r\n",
    "\r\n",
    "    A=np.zeros((m,n_H,n_W,n_C))\r\n",
    "\r\n",
    "    for i in range(m):\r\n",
    "        for h in range(n_H):\r\n",
    "            for w in range(n_W):\r\n",
    "                for c in range(n_C):\r\n",
    "                    vert_start=h*stride\r\n",
    "                    vert_end=vert_start+f\r\n",
    "                    horiz_start=w*stride\r\n",
    "                    horiz_end=horiz_start+f\r\n",
    "\r\n",
    "                    a_prev_slice=A_prev[i,vert_start:vert_end,horiz_start:horiz_end,c]\r\n",
    "\r\n",
    "                    if mode=='max':\r\n",
    "                        A[i,h,w,c]=np.max(a_prev_slice)\r\n",
    "                    elif mode=='average':\r\n",
    "                        A[i,h,w,c]=np.mean(a_prev_slice)\r\n",
    "\r\n",
    "    cache=(A_prev,hparameters)\r\n",
    "\r\n",
    "    assert(A.shape==(m,n_H,n_W,n_C))\r\n",
    "    \r\n",
    "    return A,cache\r\n",
    " "
   ],
   "outputs": [],
   "metadata": {}
  },
  {
   "cell_type": "code",
   "execution_count": 24,
   "source": [
    "np.random.seed(1)\r\n",
    "A_prev = np.random.randn(2, 4, 4, 3)\r\n",
    "hparameters = {\"stride\" : 1, \"f\": 4}\r\n",
    "\r\n",
    "A, cache = pool_forward(A_prev, hparameters)\r\n",
    "print(\"mode = max\")\r\n",
    "print(\"A =\", A)\r\n",
    "print()\r\n",
    "A, cache = pool_forward(A_prev, hparameters, mode = \"average\")\r\n",
    "print(\"mode = average\")\r\n",
    "print(\"A =\", A)"
   ],
   "outputs": [
    {
     "output_type": "stream",
     "name": "stdout",
     "text": [
      "mode = max\n",
      "A = [[[[1.74481176 1.6924546  2.10025514]]]\n",
      "\n",
      "\n",
      " [[[1.19891788 1.51981682 2.18557541]]]]\n",
      "\n",
      "mode = average\n",
      "A = [[[[-0.09498456  0.11180064 -0.14263511]]]\n",
      "\n",
      "\n",
      " [[[-0.09525108  0.28325018  0.33035185]]]]\n"
     ]
    }
   ],
   "metadata": {}
  },
  {
   "cell_type": "code",
   "execution_count": 25,
   "source": [
    "def conv_backward(dZ,cache):\r\n",
    "    (A_prev,W,b,hparameters)=cache\r\n",
    "\r\n",
    "    (m,n_H_prev,n_W_prev,n_C_prev)=A_prev.shape\r\n",
    "\r\n",
    "    (f,f,n_C_prev,n_c)=W.shape\r\n",
    "\r\n",
    "    stride=hparameters['stride']\r\n",
    "    pad=hparameters['pad']\r\n",
    "\r\n",
    "    (m,n_H,n_W,n_C)=dZ.shape\r\n",
    "\r\n",
    "    dA_prev=np.zeros((m,n_H_prev,n_W_prev,n_C_prev))\r\n",
    "    dW=np.zeros((f,f,n_C_prev,n_C))\r\n",
    "    db=np.zeros((1,1,1,n_C))\r\n",
    "\r\n",
    "    A_prev_pad=zero_pad(A_prev,pad)\r\n",
    "    dA_prev_pad=zero_pad(dA_prev,pad)\r\n",
    "\r\n",
    "    for i in range(m):\r\n",
    "\r\n",
    "        a_prev_pad=A_prev_pad[i]\r\n",
    "        da_prev_pad=dA_prev_pad[i]\r\n",
    "\r\n",
    "        for h in range(n_H):\r\n",
    "            for w in range(n_W):\r\n",
    "                for c in range(n_C):\r\n",
    "\r\n",
    "                    vert_start=h*stride\r\n",
    "                    vert_end=vert_start+f\r\n",
    "                    horiz_start=w*stride\r\n",
    "                    horiz_end=horiz_start+f\r\n",
    "\r\n",
    "                    a_slice=a_prev_pad[vert_start:vert_end,horiz_start:horiz_end,:]\r\n",
    "                    \r\n",
    "                    da_prev_pad[vert_start:vert_end,horiz_start:horiz_end,:]+=W[:,:,:,c]*dZ[i,h,w,c]\r\n",
    "                    dW[:,:,:,c]+=a_slice*dZ[i,h,w,c]\r\n",
    "                    db[:,:,:,c]+=dZ[i,h,w,c]\r\n",
    "        \r\n",
    "        dA_prev[i,:,:,:]=dA_prev_pad[i,pad:-pad,pad:-pad,:]\r\n",
    "\r\n",
    "    assert(dA_prev.shape==(m,n_H_prev,n_W_prev,n_C_prev))\r\n",
    "\r\n",
    "    return dA_prev,dW,db\r\n",
    "\r\n"
   ],
   "outputs": [],
   "metadata": {}
  },
  {
   "cell_type": "code",
   "execution_count": 26,
   "source": [
    "np.random.seed(1)\r\n",
    "dA, dW, db = conv_backward(Z, cache_conv)\r\n",
    "print(\"dA_mean =\", np.mean(dA))\r\n",
    "print(\"dW_mean =\", np.mean(dW))\r\n",
    "print(\"db_mean =\", np.mean(db))"
   ],
   "outputs": [
    {
     "output_type": "stream",
     "name": "stdout",
     "text": [
      "dA_mean = 9.608990675868995\n",
      "dW_mean = 10.581741275547566\n",
      "db_mean = 76.37106919563735\n"
     ]
    }
   ],
   "metadata": {}
  },
  {
   "cell_type": "code",
   "execution_count": 29,
   "source": [
    "def create_mask_from_window(x):\r\n",
    "    mask=(x==np.max(x))\r\n",
    "\r\n",
    "    return mask"
   ],
   "outputs": [],
   "metadata": {}
  },
  {
   "cell_type": "code",
   "execution_count": 30,
   "source": [
    "np.random.seed(1)\r\n",
    "x = np.random.randn(2,3)\r\n",
    "mask = create_mask_from_window(x)\r\n",
    "print('x = ', x)\r\n",
    "print(\"mask = \", mask)"
   ],
   "outputs": [
    {
     "output_type": "stream",
     "name": "stdout",
     "text": [
      "x =  [[ 1.62434536 -0.61175641 -0.52817175]\n",
      " [-1.07296862  0.86540763 -2.3015387 ]]\n",
      "mask =  [[ True False False]\n",
      " [False False False]]\n"
     ]
    }
   ],
   "metadata": {}
  },
  {
   "cell_type": "code",
   "execution_count": 31,
   "source": [
    "def distribute_value(dz,shape):\r\n",
    "    (n_H,n_W)=shape\r\n",
    "\r\n",
    "    average=dz/(n_H*n_W)\r\n",
    "\r\n",
    "    a=np.ones(shape)*average\r\n",
    "\r\n",
    "    return a"
   ],
   "outputs": [],
   "metadata": {}
  },
  {
   "cell_type": "code",
   "execution_count": 32,
   "source": [
    "a = distribute_value(2, (2,2))\r\n",
    "print('distributed value =', a)"
   ],
   "outputs": [
    {
     "output_type": "stream",
     "name": "stdout",
     "text": [
      "distributed value = [[0.5 0.5]\n",
      " [0.5 0.5]]\n"
     ]
    }
   ],
   "metadata": {}
  },
  {
   "cell_type": "code",
   "execution_count": 33,
   "source": [
    "def pool_backward(dA,cache,mode='max'):\r\n",
    "    (A_prev,hparameters)=cache\r\n",
    "    \r\n",
    "    stride=hparameters['stride']\r\n",
    "    f=hparameters['f']\r\n",
    "\r\n",
    "    m,n_H_prev,n_W_prev,n_C_prev=A_prev.shape\r\n",
    "    m,n_H,n_W,n_C=dA.shape\r\n",
    "\r\n",
    "    dA_prev=np.zeros_like(A_prev)\r\n",
    "\r\n",
    "    for i in range(m):\r\n",
    "\r\n",
    "        a_prev=A_prev[i]\r\n",
    "\r\n",
    "        for h in range(n_H):\r\n",
    "            for w in range(n_W):\r\n",
    "                for c in range(n_C):\r\n",
    "\r\n",
    "                    vert_start=h*stride\r\n",
    "                    vert_end=vert_start+f\r\n",
    "                    horiz_start=w*stride\r\n",
    "                    horiz_end=horiz_start+f\r\n",
    "\r\n",
    "                    if mode=='max':\r\n",
    "                        a_prev_slice=a_prev[vert_start:vert_end,horiz_start:horiz_end,c]\r\n",
    "                        mask=create_mask_from_window(a_prev_slice)\r\n",
    "                        dA_prev[i,vert_start:vert_end,horiz_start:horiz_end,c]+=mask*dA[i,vert_start,horiz_start,c]\r\n",
    "\r\n",
    "                    elif mode=='average':\r\n",
    "                        da=dA[i,vert_start,horiz_start,c]\r\n",
    "                        shape=(f,f)\r\n",
    "                        dA_prev[i,vert_start:vert_end,horiz_start:horiz_end,c]+=distribute_value(da,shape)\r\n",
    "\r\n",
    "    assert(dA_prev.shape==A_prev.shape)\r\n",
    "\r\n",
    "    return dA_prev\r\n",
    "    "
   ],
   "outputs": [],
   "metadata": {}
  },
  {
   "cell_type": "code",
   "execution_count": 34,
   "source": [
    "np.random.seed(1)\r\n",
    "A_prev = np.random.randn(5, 5, 3, 2)\r\n",
    "hparameters = {\"stride\" : 1, \"f\": 2}\r\n",
    "A, cache = pool_forward(A_prev, hparameters)\r\n",
    "dA = np.random.randn(5, 4, 2, 2)\r\n",
    "\r\n",
    "dA_prev = pool_backward(dA, cache, mode = \"max\")\r\n",
    "print(\"mode = max\")\r\n",
    "print('mean of dA = ', np.mean(dA))\r\n",
    "print('dA_prev[1,1] = ', dA_prev[1,1])  \r\n",
    "print()\r\n",
    "dA_prev = pool_backward(dA, cache, mode = \"average\")\r\n",
    "print(\"mode = average\")\r\n",
    "print('mean of dA = ', np.mean(dA))\r\n",
    "print('dA_prev[1,1] = ', dA_prev[1,1]) "
   ],
   "outputs": [
    {
     "output_type": "stream",
     "name": "stdout",
     "text": [
      "mode = max\n",
      "mean of dA =  0.14571390272918056\n",
      "dA_prev[1,1] =  [[ 0.          0.        ]\n",
      " [ 5.05844394 -1.68282702]\n",
      " [ 0.          0.        ]]\n",
      "\n",
      "mode = average\n",
      "mean of dA =  0.14571390272918056\n",
      "dA_prev[1,1] =  [[ 0.08485462  0.2787552 ]\n",
      " [ 1.26461098 -0.25749373]\n",
      " [ 1.17975636 -0.53624893]]\n"
     ]
    }
   ],
   "metadata": {}
  }
 ],
 "metadata": {
  "orig_nbformat": 4,
  "language_info": {
   "name": "python",
   "version": "3.8.8",
   "mimetype": "text/x-python",
   "codemirror_mode": {
    "name": "ipython",
    "version": 3
   },
   "pygments_lexer": "ipython3",
   "nbconvert_exporter": "python",
   "file_extension": ".py"
  },
  "kernelspec": {
   "name": "python3",
   "display_name": "Python 3.8.8 64-bit ('pytorch': conda)"
  },
  "interpreter": {
   "hash": "72dd37b9f0516e55f6d8b3db62dcef36c4dcc0ecce5d9645f83b864ac48f1691"
  }
 },
 "nbformat": 4,
 "nbformat_minor": 2
}